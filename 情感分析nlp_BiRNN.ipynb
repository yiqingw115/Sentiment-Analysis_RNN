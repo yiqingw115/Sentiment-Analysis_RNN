{
 "cells": [
  {
   "cell_type": "markdown",
   "metadata": {
    "id": "MGHoy6KpQDfZ"
   },
   "source": [
    "# COMP5046 Assignment 1\n",
    "*Make sure you change the file name with your unikey.*"
   ]
  },
  {
   "cell_type": "markdown",
   "metadata": {
    "id": "qTf21j_oQIiD"
   },
   "source": [
    "# Readme\n",
    "*If there is something to be noted for the user, please mention here.* \n",
    "\n",
    "*If you are planning to implement a program with Object Oriented Programming style, please check the bottom of the this ipynb file*"
   ]
  },
  {
   "cell_type": "markdown",
   "metadata": {
    "id": "iXbQohXLKSgO"
   },
   "source": [
    "***Visualising the comparison of different results is a good way to justify your decision.***"
   ]
  },
  {
   "cell_type": "markdown",
   "metadata": {
    "id": "34DVNKgqQY21"
   },
   "source": [
    "# 1 - Data Preprocessing"
   ]
  },
  {
   "cell_type": "markdown",
   "metadata": {
    "id": "7cWUxAQrGlq6"
   },
   "source": [
    "## 1.1. Download Dataset"
   ]
  },
  {
   "cell_type": "markdown",
   "metadata": {
    "id": "Lr8o7UZxWf3Y"
   },
   "source": [
    "If you want to know how data has been saved in pickle file: see this [ipynb file](https://drive.google.com/file/d/1ZQUVBzgH7N2EbiyE3WTPx7JNe2eRTs36/view?usp=sharing)"
   ]
  },
  {
   "cell_type": "code",
   "execution_count": 1,
   "metadata": {
    "colab": {
     "base_uri": "https://localhost:8080/"
    },
    "id": "U7C4snIcNl22",
    "outputId": "6e4fd33e-2b65-4055-d870-7299e2248df4"
   },
   "outputs": [
    {
     "name": "stdout",
     "output_type": "stream",
     "text": [
      "------------------------------------\n",
      "Size of training dataset: 8000\n",
      "Size of testing dataset: 2000\n",
      "------------------------------------\n",
      "------------------------------------\n",
      "Sample Data\n",
      "LABEL: neg / SENTENCE: hopeless for tmr :(\n",
      "------------------------------------\n"
     ]
    }
   ],
   "source": [
    "# Code to download file into Colaboratory:\n",
    "!pip install -U -q PyDrive\n",
    "from pydrive.auth import GoogleAuth\n",
    "from pydrive.drive import GoogleDrive\n",
    "from google.colab import auth\n",
    "from oauth2client.client import GoogleCredentials\n",
    "# Authenticate and create the PyDrive client.\n",
    "auth.authenticate_user()\n",
    "gauth = GoogleAuth()\n",
    "gauth.credentials = GoogleCredentials.get_application_default()\n",
    "drive = GoogleDrive(gauth)\n",
    "\n",
    "id = '1lTD6bgRkmwguGAr30v-r0KBPdtnVneLb'\n",
    "downloaded = drive.CreateFile({'id':id}) \n",
    "downloaded.GetContentFile('testing_data.pkl')  \n",
    "\n",
    "id = '1pCUdlZMoj99UZHtqFeza86fvVQfFmDFX'\n",
    "downloaded = drive.CreateFile({'id':id}) \n",
    "downloaded.GetContentFile('training_data.pkl')  \n",
    "\n",
    "import pickle\n",
    "training_data = pickle.load(open(\"training_data.pkl\",\"rb\"))\n",
    "testing_data = pickle.load(open(\"testing_data.pkl\",\"rb\"))\n",
    "\n",
    "print(\"------------------------------------\")\n",
    "print(\"Size of training dataset: {0}\".format(len(training_data)))\n",
    "print(\"Size of testing dataset: {0}\".format(len(testing_data)))\n",
    "print(\"------------------------------------\")\n",
    "\n",
    "print(\"------------------------------------\")\n",
    "print(\"Sample Data\")\n",
    "print(\"LABEL: {0} / SENTENCE: {1}\".format(training_data[0][0], training_data[0][1]))\n",
    "print(\"------------------------------------\")\n"
   ]
  },
  {
   "cell_type": "markdown",
   "metadata": {
    "id": "l9gBSgBCQh24"
   },
   "source": [
    "## 1.2. Preprocess data"
   ]
  },
  {
   "cell_type": "markdown",
   "metadata": {
    "id": "8RdKI8E2KRwe"
   },
   "source": [
    "\n",
    "\n",
    "*You are required to describe which data preprocessing techniques were conducted with justification of your decision. *"
   ]
  },
  {
   "cell_type": "markdown",
   "metadata": {
    "id": "sf7jyJ2JewHl"
   },
   "source": [
    "The major techniques in the following part for preprocessing are the regular expression method for check and filter strings from documents, and tokenize methods for spliting each word as tokens, and use lemmatization method for get the base form of words, then use stemming method reduce tokens to their stems in information retrieval.\n",
    "\n",
    "\n",
    "---\n",
    "This is a text dataset comes from Twitter composed by text included different punctuation, different language, and soome unimformative words, like the web links, emails links, mentions(@) punctuations and numbers. I would remove these information for better training samples. First, lowercase all the tokens, remove emails, webs and mentions links. I would retain hasgtags because sometimes it might also contain the sentitive information. Besides, although not always, but most of time some emoji might contain information as well, like 'heart', ':)' simle might stand for a positive emotion, so I would use [emoji] package to transfer image emoji to words forms, replace word emoji like ':)' as word 'simleface'. [TweetTokenizer] can helps to split these word emoji. Third, I would try to only retain Enlish lowercase words for training sample, so I use language code on regular expression method to remove other languages. Finally, I would remove stop words which also not contain much information. Stemming is for normalize spelling words, because the text on the Internet might not much well-spelling and reduce the number of different words. Lemmatization ir for reduce the number of dimension for belowing word embedding.\n"
   ]
  },
  {
   "cell_type": "code",
   "execution_count": 2,
   "metadata": {
    "colab": {
     "base_uri": "https://localhost:8080/"
    },
    "id": "emyl1lWxGr12",
    "outputId": "f86458cd-cc54-4fab-d9c8-3b200f0b5a5d"
   },
   "outputs": [
    {
     "name": "stdout",
     "output_type": "stream",
     "text": [
      "[nltk_data] Downloading package punkt to /root/nltk_data...\n",
      "[nltk_data]   Package punkt is already up-to-date!\n"
     ]
    }
   ],
   "source": [
    "# Please comment your code\n",
    "import numpy as np\n",
    "import pandas as pd\n",
    "import re, string\n",
    "import nltk\n",
    "nltk.download('punkt')\n",
    "from nltk.tokenize import word_tokenize, sent_tokenize"
   ]
  },
  {
   "cell_type": "code",
   "execution_count": 14,
   "metadata": {
    "colab": {
     "base_uri": "https://localhost:8080/"
    },
    "id": "vXdwRfSFDbhZ",
    "outputId": "b5123a65-4d1e-4984-fabf-8b7091d8f63a"
   },
   "outputs": [
    {
     "name": "stdout",
     "output_type": "stream",
     "text": [
      "train duplicated: 0 test duplicated: 0\n",
      "0    0\n",
      "1    0\n",
      "dtype: int64 0    0\n",
      "1    0\n",
      "dtype: int64\n"
     ]
    }
   ],
   "source": [
    "# check duplicated print(\"train duplicated:\", np.sum(pd.DataFrame(training_data).duplicated()), \"test duplicated:\", np.sum(pd.DataFrame(testing_data).duplicated()))\n",
    "\n",
    "# check/remove na print(np.sum(pd.DataFrame(training_data).isna()), np.sum(pd.DataFrame(testing_data).isna()))"
   ]
  },
  {
   "cell_type": "code",
   "execution_count": 3,
   "metadata": {
    "id": "AIcaryYoPYtj"
   },
   "outputs": [],
   "source": [
    "puncts = [',', '.', '\"', ':', ')', '(', '-', '!', '?', '|', ';', \"'\", '$', '&', '/', '[', ']', '>', '%', '=', '#', '*', '+', '\\\\', '•',  '~', '@', '£', \n",
    " '·', '_', '{', '}', '©', '^', '®', '`',  '<', '→', '°', '€', '™', '›',  '♥', '←', '×', '§', '″', '′', 'Â', '█', '½', 'à', '…', \n",
    " '“', '★', '”', '–', '●', 'â', '►', '−', '¢', '²', '¬', '░', '¶', '↑', '±', '¿', '▾', '═', '¦', '║', '―', '¥', '▓', '—', '‹', '─', \n",
    " '▒', '：', '¼', '⊕', '▼', '▪', '†', '■', '’', '▀', '¨', '▄', '♫', '☆', 'é', '¯', '♦', '¤', '▲', 'è', '¸', '¾', 'Ã', '⋅', '‘', '∞', \n",
    " '∙', '）', '↓', '、', '│', '（', '»', '，', '♪', '╩', '╚', '³', '・', '╦', '╣', '╔', '╗', '▬', '❤', 'ï', 'Ø', '¹', '≤', '‡', '√',  '╲', '╱', ]\n",
    "\n",
    "def remove_punctuation(x):\n",
    "  \"\"\"\n",
    "  Input: single word\n",
    "  Output: justified word\n",
    "  \"\"\"\n",
    "  x = str(x)\n",
    "  for punct in puncts:\n",
    "      if punct == x:\n",
    "          x = x.replace(punct, '')\n",
    "  return x"
   ]
  },
  {
   "cell_type": "code",
   "execution_count": 4,
   "metadata": {
    "colab": {
     "base_uri": "https://localhost:8080/"
    },
    "id": "s38l9twkWCSh",
    "outputId": "24bbd039-00b8-4180-a6a1-f434e5d4b695"
   },
   "outputs": [
    {
     "name": "stdout",
     "output_type": "stream",
     "text": [
      "[nltk_data] Downloading package punkt to /root/nltk_data...\n",
      "[nltk_data]   Package punkt is already up-to-date!\n",
      "[nltk_data] Downloading package stopwords to /root/nltk_data...\n",
      "[nltk_data]   Package stopwords is already up-to-date!\n",
      "[nltk_data] Downloading package wordnet to /root/nltk_data...\n",
      "[nltk_data]   Package wordnet is already up-to-date!\n",
      "Requirement already satisfied: emoji in /usr/local/lib/python3.7/dist-packages (1.2.0)\n"
     ]
    }
   ],
   "source": [
    "# Prepare Tokenisation\n",
    "from nltk.tokenize import TweetTokenizer\n",
    "# Remove username handles and Normalize word lengthening\n",
    "tknzr = TweetTokenizer(strip_handles=True, reduce_len = True)\n",
    "# Prepare removing stop words\n",
    "import nltk\n",
    "nltk.download('punkt')\n",
    "nltk.download('stopwords')\n",
    "from nltk.corpus import stopwords as sw\n",
    "from nltk.tokenize import word_tokenize\n",
    "stop_words = sw.words()\n",
    "# Prepare NLTK Wordnet\n",
    "nltk.download('wordnet')\n",
    "from nltk.stem import WordNetLemmatizer\n",
    "lemmatizer = WordNetLemmatizer()\n",
    "from nltk.stem.porter import *\n",
    "stemmer = PorterStemmer()\n",
    "!pip install emoji\n",
    "import emoji\n",
    "\n",
    "def Clean(sentence):\n",
    "  \"\"\"\n",
    "  Input sentence: 'hopeless for tmr :(' (e.g.)\n",
    "  Output tokens: ['hopeless', 'tmr', 'cryface'] (e.g.)\n",
    "\n",
    "  \"\"\"\n",
    "  # Converting to lowercase\n",
    "  sentence = str(sentence[1]).lower()\n",
    "  # Remove links\n",
    "  remove_link = re.sub(r'http\\S+', '', sentence)\n",
    "  # Remove email\n",
    "  remove_email = re.sub(r'@', '', remove_link)\n",
    "  # Remove other language instead of English\n",
    "  remove_lang = re.sub(u'\\u0061-\\u007a', '', remove_email)\n",
    "  # Remove image emoji and change into words\n",
    "  remove_emoji = emoji.demojize(remove_lang)\n",
    "  # Remove numbers\n",
    "  remove_num = re.sub('[0-9]+', \"\", remove_emoji)\n",
    "\n",
    "  # Tokenisation\n",
    "  tokens = tknzr.tokenize(remove_num)\n",
    "  # Remove stop words\n",
    "  filtered_sentence = [w for w in tokens if not w in stop_words]\n",
    "  # lemmatizer\n",
    "  lemm = [lemmatizer.lemmatize(word) for word in filtered_sentence]\n",
    "  # Remove single punctuation\n",
    "  repl_punc = [remove_punctuation(x) for x in lemm]\n",
    "  remove_punc = [x for x in repl_punc if x != '']\n",
    "  # stemmer\n",
    "  stemm = [stemmer.stem(w) for w in remove_punc]\n",
    "  # change word emoji into word describtion\n",
    "  sent = [w.replace(r':(',\"cryface\").replace(r':-(',\"cryface\").replace(r':)',\"simleface\").replace(r':-)',\"simleface\") for w in stemm]\n",
    "  \n",
    "    \n",
    "  return sent"
   ]
  },
  {
   "cell_type": "code",
   "execution_count": 5,
   "metadata": {
    "id": "qOoCMVXMT8uT"
   },
   "outputs": [],
   "source": [
    "def Encode_y(dataset):\n",
    "  \"\"\"\n",
    "  Input the original label: \"pos\",\"neg\"\n",
    "  Output: \"pos\" <- 2, \"neg\" <- 1.\n",
    "  \"\"\"\n",
    "  labels = []\n",
    "  for i in range(len(dataset)):\n",
    "    label = dataset[i][0]\n",
    "    label = label.replace(r'neg','1').replace(r'pos','2')\n",
    "    \n",
    "    labels.append(label)\n",
    "\n",
    "  for x in labels:\n",
    "    if type(x) == 'str':\n",
    "      ptint(x)\n",
    "    else:\n",
    "      pass\n",
    "  encoded = [int(x) for x in labels]\n",
    "\n",
    "  return encoded\n"
   ]
  },
  {
   "cell_type": "code",
   "execution_count": 6,
   "metadata": {
    "id": "n35vxU4yfV9Y"
   },
   "outputs": [],
   "source": [
    "train_x = [Clean(sentences) for sentences in training_data]\n",
    "train_y = Encode_y(training_data)\n",
    "\n",
    "test_x = [Clean(sentences) for sentences in testing_data]\n",
    "test_y = Encode_y(testing_data)"
   ]
  },
  {
   "cell_type": "markdown",
   "metadata": {
    "id": "LIu_lkJwQ55g"
   },
   "source": [
    "# 2 - Model Implementation"
   ]
  },
  {
   "cell_type": "markdown",
   "metadata": {
    "id": "daDvAftceIvr"
   },
   "source": [
    "## 2.1. Word Embeddings"
   ]
  },
  {
   "cell_type": "markdown",
   "metadata": {
    "id": "lbzm-NWBTmM-"
   },
   "source": [
    "*You are required to describe which model was implemented (i.e. Word2Vec with CBOW, FastText with SkipGram, etc.) with justification of your decision *"
   ]
  },
  {
   "cell_type": "markdown",
   "metadata": {
    "id": "06EqnRegnC7y"
   },
   "source": [
    "  First at all, I choose FastText to do word embedding in this part. This is \n",
    "becasue compared with Word2Vec and CBOW are predicting context, FastText is \n",
    "predicting the labels. In this case, out goal is to get the classification of sensitive label, so I choose FastText as the word embedding technique. In addition, word2vec has a huge limitation，it cannot infer the unfamiliar word vector if using the other corpus. This is OOV problem.\n",
    "\n",
    "\n",
    "---\n",
    "\n",
    "\n",
    "\n",
    "  However, FastText trained a large corpus would take a long time. In a ddition, if we train Word2Vec by corpus with the raw training data and testing data, the OOV problem can be avoid.\n",
    "\n",
    "\n",
    "---\n",
    "\n",
    "\n",
    "  Therefore, I will train Word2Vec with TED talk data (processed from Lab02) and Twitter dataset as the word embedding method at the following part.\n",
    "\n",
    "\n"
   ]
  },
  {
   "cell_type": "code",
   "execution_count": 7,
   "metadata": {
    "id": "3cM4rlYkHefJ"
   },
   "outputs": [],
   "source": [
    "# Please comment your code\n",
    "\n",
    "import pprint\n",
    "from gensim.models import Word2Vec\n",
    "from gensim.models import FastText\n",
    "import warnings\n",
    "warnings.simplefilter(action='ignore', category=FutureWarning)\n",
    "\n",
    "# test\n",
    "# ft_sg_model = FastText(train_x, size=100, window=5, min_count=5, workers=2, sg=1)\n",
    "# just for test: result=ft_sg_model.wv.most_similar(\"hopeless\") pprint.pprint(result)"
   ]
  },
  {
   "cell_type": "markdown",
   "metadata": {
    "id": "GXgFpxIgl-_G"
   },
   "source": [
    "### 2.1.1. Data Preprocessing for Word Embeddings"
   ]
  },
  {
   "cell_type": "markdown",
   "metadata": {
    "id": "qJrVHGYSmYMg"
   },
   "source": [
    "*You are required to describe which preprocessing techniques were used with justification of your decision.*"
   ]
  },
  {
   "cell_type": "markdown",
   "metadata": {
    "id": "nweSqnt4qN2F"
   },
   "source": [
    "The only preprocessing in this part is for TED talk dataset. First, download it which si a xml file. Then, remove the unimformational words. Finally, get a token form list by each sentence."
   ]
  },
  {
   "cell_type": "code",
   "execution_count": 8,
   "metadata": {
    "id": "VLQL7o88pcXe"
   },
   "outputs": [],
   "source": [
    "# Please comment your code\n",
    "# ref: Lab 02 \n",
    "# Download TED talk: about 55s nedded\n",
    "!pip install -U -q PyDrive\n",
    "from pydrive.auth import GoogleAuth\n",
    "from pydrive.drive import GoogleDrive\n",
    "from google.colab import auth\n",
    "from oauth2client.client import GoogleCredentials\n",
    "# For parsing our XML data\n",
    "from lxml import etree \n",
    "# Authenticate and create the PyDrive client.\n",
    "auth.authenticate_user()\n",
    "gauth = GoogleAuth()\n",
    "gauth.credentials = GoogleCredentials.get_application_default()\n",
    "drive = GoogleDrive(gauth)\n",
    "id = '1B47OiEiG2Lo1jUY6hy_zMmHBxfKQuJ8-'\n",
    "downloaded = drive.CreateFile({'id':id}) \n",
    "\n",
    "downloaded.GetContentFile('ted_en-20160408.xml')  \n",
    "targetXML=open('ted_en-20160408.xml', 'r', encoding='UTF8')\n",
    "# Getting contents of <content> tag from the xml file\n",
    "target_text = etree.parse(targetXML)\n",
    "parse_text = '\\n'.join(target_text.xpath('//content/text()'))\n",
    "\n",
    "# Removing \"Sound-effect labels\" using regular expression (regex) (i.e. (Audio), (Laughter))\n",
    "content_text = re.sub(r'\\([^)]*\\)', '', parse_text)\n",
    "\n",
    "# Tokenising the sentence to process it by using NLTK library\n",
    "sent_text=sent_tokenize(content_text)\n",
    "\n",
    "# Removing punctuation and changing all characters to lower case\n",
    "normalized_text = []\n",
    "for string in sent_text:\n",
    "     tokens = re.sub(r\"[^a-z0-9]+\", \" \", string.lower())\n",
    "     normalized_text.append(tokens)\n",
    "\n",
    "# Tokenising each sentence to process individual word\n",
    "ted_sentences=[]\n",
    "ted_sentences=[word_tokenize(sentence) for sentence in normalized_text]\n",
    "\n",
    "#test:    print(ted_sentences[0])"
   ]
  },
  {
   "cell_type": "code",
   "execution_count": 61,
   "metadata": {
    "colab": {
     "base_uri": "https://localhost:8080/"
    },
    "id": "9nG0iSZcM0Eo",
    "outputId": "4f2fd883-e0eb-4021-93fc-02970c0cbeea"
   },
   "outputs": [
    {
     "name": "stdout",
     "output_type": "stream",
     "text": [
      "[nltk_data] Downloading package twitter_samples to /root/nltk_data...\n",
      "[nltk_data]   Package twitter_samples is already up-to-date!\n"
     ]
    }
   ],
   "source": [
    "from nltk.corpus import twitter_samples\n",
    "nltk.download('twitter_samples')\n",
    "twitter_samples.fileids()\n",
    "tweets = twitter_samples.strings('tweets.20150430-223406.json')\n",
    "tweets_tokens = twitter_samples.tokenized('tweets.20150430-223406.json')"
   ]
  },
  {
   "cell_type": "code",
   "execution_count": 95,
   "metadata": {
    "id": "y1TmJ1tyN-ee"
   },
   "outputs": [],
   "source": [
    "def Cleantw(sent):\n",
    "  clean_tweets = []\n",
    "  for i in sent:\n",
    "    #print(i.lower())\n",
    "    x = re.sub(r'http\\S+', '', i.lower())\n",
    "    x = re.sub(r'@', '', x)\n",
    "    x = re.sub(u'\\u0061-\\u007a', '', x)\n",
    "    # Remove image emoji and change into words\n",
    "    x = emoji.demojize(x)\n",
    "    # Remove numbers\n",
    "    x = re.sub('[0-9]+', '', x)\n",
    "    x = remove_punctuation(x)\n",
    "    if x not in stop_words:\n",
    "      \n",
    "      x = lemmatizer.lemmatize(x)\n",
    "      x = stemmer.stem(x)\n",
    "      clean_tweets.append(x)\n",
    "      \n",
    "  cleaned_tweets = []\n",
    "  for i in clean_tweets:\n",
    "    if i != '':\n",
    "      cleaned_tweets.append(i)\n",
    "  return cleaned_tweets    \n"
   ]
  },
  {
   "cell_type": "code",
   "execution_count": 96,
   "metadata": {
    "id": "sbZj7bNORbF0"
   },
   "outputs": [],
   "source": [
    "cleantw = [Cleantw(sent) for sent in tweets_tokens]"
   ]
  },
  {
   "cell_type": "code",
   "execution_count": 97,
   "metadata": {
    "colab": {
     "base_uri": "https://localhost:8080/"
    },
    "id": "vkjSpODrRz-F",
    "outputId": "aaf33b91-7267-4c59-c49d-f9f5bd80919e"
   },
   "outputs": [
    {
     "data": {
      "text/plain": [
       "20000"
      ]
     },
     "execution_count": 0,
     "metadata": {
      "tags": []
     },
     "output_type": "execute_result"
    }
   ],
   "source": [
    "len(cleantw)"
   ]
  },
  {
   "cell_type": "markdown",
   "metadata": {
    "id": "qhAgWf_AmbZ8"
   },
   "source": [
    "### 2.1.2. Build Word Embeddings Model"
   ]
  },
  {
   "cell_type": "markdown",
   "metadata": {
    "id": "AJ8rU7JbiBVS"
   },
   "source": [
    "*You are required to describe how hyperparameters were decided with justification of your decision.*"
   ]
  },
  {
   "cell_type": "markdown",
   "metadata": {
    "id": "D0Eo3hpDrwSM"
   },
   "source": [
    "There are many parameters need to set up in [gensim.models.word2vec.Word2Vec]. \n",
    "\n",
    "{\n",
    "  \n",
    "  sg: for set up algorithm, 0 is cbow, 1 is skip-gram \n",
    "\n",
    "  size: the dimension of vetor, 100 is default.\n",
    "\n",
    "  alpha: learning rate, 0.025 is default, set double 0.05 for shorter running time\n",
    "\n",
    "  min_alpha: minimum learning rate, 0.0001 is defualt\n",
    "\n",
    "  window: the distance between current word and predicted word in a stence, 5 is default.\n",
    "\n",
    "  min_count: can cut off the dictionary, if the frequence of words less then min_count, it would be drop off, 5 is default, however, the dataset we used is not very large, I want more accurate so I set 1 here. The most important point is that 1 can help avoid OOV problem.\n",
    "\n",
    "  seed: randomly begin. set any number.\n",
    "\n",
    "  workers: control the number of parallel, 3 as default.\n",
    "\n",
    "  negative: if larger than 0, negative sampling would be took for noise words. 5 is default. I would use hierarchical softmax method instead of negative sampling, so set 0 here.\n",
    "\n",
    "  hs: 0: negative sampling, 1:hierarchical softmax. Hierarchical is based on the binary tree, so high-frequency words need less time can be found according to greedy optimization. Therefore, set 1.\n",
    "\n",
    "  compute_loss: TRUE, because I want to use [get_latest_training_loss()] below to check loss.\n",
    "\n",
    "  iter: 5 is default. I want more train times, so set 10.\n",
    "\n",
    "  cbow_mean: 0 is the sum of context, 1 is default that use mean value, becasue I use cbow algorithm here, so need to set this parameter.\n",
    "\n",
    "}\n",
    "\n",
    "\n",
    "ref: https://radimrehurek.com/gensim/models/word2vec.html\n",
    "(code) https://github.com/RaRe-Technologies/gensim/issues/2039"
   ]
  },
  {
   "cell_type": "code",
   "execution_count": 148,
   "metadata": {
    "id": "Jftz99LSvd8v"
   },
   "outputs": [],
   "source": [
    "# Please comment your code\n",
    "# hyperparameters prepare\n",
    "Dimension_embeddings = 100\n",
    "word2vec_params = {\n",
    "   'sg': 0,       # CBOW\n",
    "   \"size\": Dimension_embeddings,\n",
    "   \"alpha\": 0.5,\n",
    "   \"min_alpha\": 0.001,\n",
    "   'window': 10,\n",
    "   'min_count': 1,\n",
    "   'seed': 1,\n",
    "   \"workers\": 4,\n",
    "   \"negative\": 0,\n",
    "   \"hs\": 1,       # hierarchical softmax\n",
    "   'compute_loss': True,\n",
    "   'iter': 10,\n",
    "   'cbow_mean':1,\n",
    "}\n",
    "model = Word2Vec(**word2vec_params)\n",
    "model.build_vocab(cleantw+ted_sentences+train_x+test_x)"
   ]
  },
  {
   "cell_type": "markdown",
   "metadata": {
    "id": "LNys5HOdISK-"
   },
   "source": [
    "### 2.1.3. Train Word Embeddings Model"
   ]
  },
  {
   "cell_type": "code",
   "execution_count": 150,
   "metadata": {
    "colab": {
     "base_uri": "https://localhost:8080/",
     "height": 465
    },
    "id": "Ae8i7Z2kIef-",
    "outputId": "53aa26d8-f791-4114-d4e2-1c4d50f3dbff"
   },
   "outputs": [
    {
     "name": "stdout",
     "output_type": "stream",
     "text": [
      "0 69473.6875 0.5\n",
      "1 71894.0625 0.4501\n",
      "2 72277.625 0.4002\n",
      "3 71113.625 0.3503\n",
      "4 69156.6953125 0.3004\n",
      "5 68274.3359375 0.2505\n",
      "6 67462.640625 0.2006\n",
      "7 70214.65625 0.1507\n",
      "8 71730.6328125 0.1008\n",
      "9 66688.1953125 0.0509\n"
     ]
    },
    {
     "data": {
      "image/png": "[encoded data removed]",
      "text/plain": [
       "<Figure size 432x288 with 1 Axes>"
      ]
     },
     "metadata": {
      "needs_background": "light",
      "tags": []
     },
     "output_type": "display_data"
    }
   ],
   "source": [
    "# Please comment your code\n",
    "# about 53s needed\n",
    "from matplotlib import pyplot as plt \n",
    "\n",
    "learning_rate = 0.5\n",
    "step_size = (0.5 - 0.001) / 10\n",
    "\n",
    "W2V_x = []\n",
    "W2V_y = []\n",
    "\n",
    "for i in range(10):\n",
    "    trained_word_count, raw_word_count = model.train(cleantw+ted_sentences+train_x+test_x, compute_loss=True,\n",
    "                                                     start_alpha=learning_rate,\n",
    "                                                     end_alpha=learning_rate,\n",
    "                                                     total_examples=model.corpus_count,\n",
    "                                                     epochs=5)\n",
    "    loss = model.get_latest_training_loss()\n",
    "    \n",
    "    print(i, loss, learning_rate)\n",
    "    W2V_x.append(i) # for plot\n",
    "    W2V_y.append(loss) # for plot\n",
    "    \n",
    "    learning_rate -= step_size\n",
    "\n",
    "plt.title(\"Training performance\")\n",
    "plt.plot(W2V_x, W2V_y, label='Training loss')\n",
    "plt.legend()\n",
    "plt.xlabel(\"loss\")\n",
    "plt.ylabel(\"epochs\")\n",
    "plt.show()"
   ]
  },
  {
   "cell_type": "code",
   "execution_count": 151,
   "metadata": {
    "id": "ji4cTg-QW1Qv"
   },
   "outputs": [],
   "source": [
    "#save the model\n",
    "model.save(\"word2vec.model\")\n",
    "\n",
    "#load the model\n",
    "loaded_w2vmodel = Word2Vec.load(\"word2vec.model\")"
   ]
  },
  {
   "cell_type": "code",
   "execution_count": 152,
   "metadata": {
    "id": "sb125dDru373"
   },
   "outputs": [],
   "source": [
    "def get_embedding(sent):\n",
    "  Word2Vec_embedding = []\n",
    "  for token in sent:\n",
    "    Word2Vec_embedding.append(loaded_w2vmodel.wv[token])\n",
    "  return np.array(Word2Vec_embedding)"
   ]
  },
  {
   "cell_type": "code",
   "execution_count": 153,
   "metadata": {
    "id": "jYo5c_MEoafZ"
   },
   "outputs": [],
   "source": [
    "train_W2V_embedding = [get_embedding(train_x[token]) for token in range(len(train_x))]\n",
    "test_W2V_embedding = [get_embedding(test_x[token]) for token in range(len(test_x))]"
   ]
  },
  {
   "cell_type": "markdown",
   "metadata": {
    "id": "T0ap96aeGlIk"
   },
   "source": [
    "## 2.2. Lexicon Embeddings"
   ]
  },
  {
   "cell_type": "markdown",
   "metadata": {
    "id": "d16v3oKaGlI0"
   },
   "source": [
    "### 2.2.1. Lexicon-based Embedding"
   ]
  },
  {
   "cell_type": "markdown",
   "metadata": {
    "id": "AKbLnN-3GlI1"
   },
   "source": [
    "*[Optional] You are required to describe why you would like to use more than one-dimensional embedding.*"
   ]
  },
  {
   "cell_type": "code",
   "execution_count": null,
   "metadata": {
    "id": "i2CUCL1cGlI2"
   },
   "outputs": [],
   "source": [
    "# Please comment your code\n",
    "###\n",
    "# if you want to use uploaded file, run this chunk. I am using the corpus from nltk, so run and import in the next chunk.\n",
    "###\n",
    "\n",
    "#lexi_negative = open('/content/opinion-lexicon-English/negative-words.txt', 'r', encoding = \"ISO-8859-1\") \n",
    "#lexi_positive = open('/content/opinion-lexicon-English/positive-words.txt', 'r', encoding = \"ISO-8859-1\") \n",
    "#negative = lexi_negative.read()\n",
    "#positive = lexi_positive.read()\n",
    "#negative_list = [negative.split( )][0]\n",
    "#positive_list = [positive.split( )][0]\n",
    "\n",
    "### this step is to find the introduction words \n",
    "### and get the begin index of usable words\n",
    "\n",
    "#tmp_nidx = []\n",
    "#for i in range(len(negative_list)):\n",
    "#  if \";\" in negative_list[i]:\n",
    "    #print(i)\n",
    "#    tmp_nidx.append(i)\n",
    "#max_n = np.max(tmp_nidx)\n",
    "\n",
    "#tmp_pidx = []\n",
    "#for i in range(len(positive_list)):\n",
    "#  if \";\" in positive_list[i]:\n",
    "    #print(i)\n",
    "#    tmp_pidx.append(i)\n",
    "#max_p = np.max(tmp_pidx)\n",
    "\n",
    "#negative_lexi = negative_list[int(max_n + 1):]\n",
    "\n",
    "#positive_lexi = positive_list[int(max_p + 1):]\n"
   ]
  },
  {
   "cell_type": "code",
   "execution_count": 154,
   "metadata": {
    "colab": {
     "base_uri": "https://localhost:8080/"
    },
    "id": "VA8JW6wzoScC",
    "outputId": "e981ea54-e0ff-49b4-8482-ef0ee534cd57"
   },
   "outputs": [
    {
     "name": "stdout",
     "output_type": "stream",
     "text": [
      "[nltk_data] Downloading package opinion_lexicon to /root/nltk_data...\n",
      "[nltk_data]   Package opinion_lexicon is already up-to-date!\n",
      "lexi_negative: 4783 lexi_positive: 2006\n"
     ]
    }
   ],
   "source": [
    "nltk.download('opinion_lexicon')\n",
    "from nltk.corpus import opinion_lexicon\n",
    "\n",
    "lexi_negative = opinion_lexicon.negative()\n",
    "lexi_positive = opinion_lexicon.positive()\n",
    "print(\"lexi_negative:\",len(lexi_negative), \"lexi_positive:\",len(lexi_positive)) # lexi_negative: 4783 lexi_positive: 2006 is correct"
   ]
  },
  {
   "cell_type": "code",
   "execution_count": 155,
   "metadata": {
    "id": "QnQOiMKBdpL9"
   },
   "outputs": [],
   "source": [
    "stemm_negative_lexi = [stemmer.stem(w) for w in lexi_negative]\n",
    "stemm_positive_lexi = [stemmer.stem(w) for w in lexi_positive]\n",
    "# This is because the lexi corpus words are official version, \n",
    "# so in order to match the stemmized processed tokens, it should be stemmized as well."
   ]
  },
  {
   "cell_type": "code",
   "execution_count": 17,
   "metadata": {
    "id": "d_NP_WM2eh0j"
   },
   "outputs": [],
   "source": [
    "# test: train_x[0]"
   ]
  },
  {
   "cell_type": "code",
   "execution_count": 156,
   "metadata": {
    "id": "ZN7gsDMbPqUU"
   },
   "outputs": [],
   "source": [
    "def Encode_lexi(token_list):\n",
    "  lexi_token = []\n",
    "  for token in token_list:\n",
    "    if token in stemm_negative_lexi:\n",
    "      lexi_token.append(1) # negative(1)\n",
    "    elif token in stemm_positive_lexi:\n",
    "      lexi_token.append(2) # positive(2)\n",
    "    else:\n",
    "      lexi_token.append(0) # not_exist(0)\n",
    "\n",
    "  return lexi_token"
   ]
  },
  {
   "cell_type": "code",
   "execution_count": 157,
   "metadata": {
    "colab": {
     "base_uri": "https://localhost:8080/"
    },
    "id": "A5y0N85rSyEa",
    "outputId": "b662cfc3-a0b7-411b-bf93-ffd2352d1f3f"
   },
   "outputs": [
    {
     "data": {
      "text/plain": [
       "(8000,)"
      ]
     },
     "execution_count": 157,
     "metadata": {
      "tags": []
     },
     "output_type": "execute_result"
    }
   ],
   "source": [
    "train_lexi_code = [Encode_lexi(train_x[document]) for document in range(len(train_x))]\n",
    "test_lexi_code = [Encode_lexi(test_x[document]) for document in range(len(test_x))]\n",
    "np.array(train_lexi_code).shape # because now each document is different length, so the dimension is not shown here"
   ]
  },
  {
   "cell_type": "markdown",
   "metadata": {
    "id": "RMrVwFE4Wzks"
   },
   "source": []
  },
  {
   "cell_type": "markdown",
   "metadata": {
    "id": "tlCeWT8eeLnd"
   },
   "source": [
    "## 2.3. Bi-directional RNN Sequence model"
   ]
  },
  {
   "cell_type": "markdown",
   "metadata": {
    "id": "fwA-NN3EJ4Ig"
   },
   "source": [
    "### 2.3.1. Apply/Import Word Embedding and Lexicon Embedding"
   ]
  },
  {
   "cell_type": "code",
   "execution_count": 158,
   "metadata": {
    "id": "g7PKX1gIePA2"
   },
   "outputs": [],
   "source": [
    "# Please comment your code\n",
    "def Padding(embeddinged):\n",
    "  length = int(np.mean([len(i) for i in embeddinged]))\n",
    "  max_length = int(np.max([len(i) for i in embeddinged]))\n",
    "  zeros = np.zeros((max_length, Dimension_embeddings))\n",
    "\n",
    "  padding = []\n",
    "  for sent in embeddinged:\n",
    "    if len(sent) >= length:\n",
    "      padding.append(list(np.array(sent)[:length]))\n",
    "\n",
    "    else:\n",
    "      padding.append(list(np.vstack((zeros[:int(length - len(sent))],sent))))\n",
    "\n",
    "    np.warnings.filterwarnings('ignore', category=np.VisibleDeprecationWarning) \n",
    "  padding = np.array(padding)\n",
    "\n",
    "  return padding\n"
   ]
  },
  {
   "cell_type": "code",
   "execution_count": 159,
   "metadata": {
    "id": "yoitUWYEr7_8"
   },
   "outputs": [],
   "source": [
    "train_W2V = Padding(train_W2V_embedding)\n",
    "test_W2V = Padding(test_W2V_embedding)  # test: print(train_W2V.shape, test_W2V.shape)"
   ]
  },
  {
   "cell_type": "code",
   "execution_count": 160,
   "metadata": {
    "id": "wzr5s8T5sv5c"
   },
   "outputs": [],
   "source": [
    "def Paddinglexi(embedding):\n",
    "  length = int(np.mean([len(i) for i in embedding]))\n",
    "  max_length = int(np.max([len(i) for i in embedding]))\n",
    "  \n",
    "  zeros = [0]*max_length\n",
    "\n",
    "  lexi_padding = []\n",
    "  for sent in embedding:\n",
    "    if len(sent) >= length:\n",
    "      lexi_padding.append(sent[:length])\n",
    "    else:\n",
    "      lexi_padding.append(sent+zeros[:int(length-len(sent))])\n",
    "\n",
    "  lexi_padding = np.array(lexi_padding)\n",
    "\n",
    "  return lexi_padding\n"
   ]
  },
  {
   "cell_type": "code",
   "execution_count": 161,
   "metadata": {
    "id": "5bBH0MfzuCSU"
   },
   "outputs": [],
   "source": [
    "train_lexi_padding = Paddinglexi(train_lexi_code)\n",
    "test_lexi_padding = Paddinglexi(test_lexi_code)  # test: print(train_lexi_padding.shape, test_lexi_padding.shape)"
   ]
  },
  {
   "cell_type": "code",
   "execution_count": 162,
   "metadata": {
    "id": "-s_r26KguVlx"
   },
   "outputs": [],
   "source": [
    "import torch\n",
    "import torch.nn as nn\n",
    "def Concatenate(padding, padding_lexi, length, num_vector):\n",
    "  \n",
    "  concatenate = []\n",
    "  for lexi in range(len(padding_lexi)):\n",
    "    embedding = nn.Embedding(length,num_vector)\n",
    "    input = torch.LongTensor(padding_lexi[lexi])\n",
    "    concat = torch.cat((torch.from_numpy(padding[lexi]),embedding(input)), 0)\n",
    "    #print(concat.shape)\n",
    "    #print(concat.detach().numpy().shape)\n",
    "    concatenate.append(concat.detach().numpy())\n",
    "  concatenate = np.array(concatenate)\n",
    "  return concatenate"
   ]
  },
  {
   "cell_type": "code",
   "execution_count": 163,
   "metadata": {
    "id": "2xSSB-g4vlIq"
   },
   "outputs": [],
   "source": [
    "train_input = Concatenate(train_W2V, train_lexi_padding, 7, Dimension_embeddings)\n",
    "test_input = Concatenate(test_W2V, test_lexi_padding, 7, Dimension_embeddings)  # test: print(train_input.shape, test_input.shape)"
   ]
  },
  {
   "cell_type": "code",
   "execution_count": 164,
   "metadata": {
    "id": "4o_lAhl8er1X"
   },
   "outputs": [],
   "source": [
    "train_y = np.array(train_y)\n",
    "test_y = np.array(test_y)  # test: print(train_y.shape, test_y.shape)"
   ]
  },
  {
   "cell_type": "markdown",
   "metadata": {
    "id": "DpYCL17JKZxl"
   },
   "source": [
    "### 2.3.2. Build Sequence Model"
   ]
  },
  {
   "cell_type": "markdown",
   "metadata": {
    "id": "R204UIyDKhZ4"
   },
   "source": [
    "*You are required to describe how hyperparameters were decided with justification of your decision.*"
   ]
  },
  {
   "cell_type": "code",
   "execution_count": 165,
   "metadata": {
    "id": "13eCtR_SLUG6"
   },
   "outputs": [],
   "source": [
    "# Please comment your code\n",
    "import torch\n",
    "device = torch.device(\"cuda\" if torch.cuda.is_available() else \"cpu\")"
   ]
  },
  {
   "cell_type": "code",
   "execution_count": 166,
   "metadata": {
    "id": "ixYfGTLOa9w6"
   },
   "outputs": [],
   "source": [
    "import torch.nn as nn\n",
    "import torch.nn.functional as F\n",
    "\n",
    "num_directions = 2\n",
    "num_layers = 2  # 2 Bi-RNN here \n",
    "\n",
    "class Bi_RNN_Model(nn.Module):\n",
    "    def __init__(self):\n",
    "        super(Bi_RNN_Model, self).__init__()\n",
    "\n",
    "        # input of shape (seq_len, batch, input_size)\n",
    "        # h_0 of shape (num_layers * num_directions, batch, hidden_size)\n",
    "        # bidirectional – If True, becomes a bidirectional RNN. Default: False\n",
    "        # If the RNN is bidirectional, num_directions should be 2, else it should be 1.\n",
    "\n",
    "        self.rnn = nn.RNN(n_input, n_hidden, num_layers = num_layers, batch_first=True, dropout=0.2, bidirectional = True)     \n",
    "        self.linear = nn.Linear(n_hidden*num_directions, n_class+1)\n",
    "\n",
    "    def forward(self, x):        \n",
    "\n",
    "        # output of shape (seq_len, batch, num_directions * hidden_size)\n",
    "        # h_n of shape (num_layers * num_directions, batch, hidden_size)\n",
    "\n",
    "        rnn_output, h_n = self.rnn(x)\n",
    "\n",
    "        # got (batch, hidden_size) and pop the last hidden states\n",
    "        # rnn_output[:,-1,:128] <-- the last output of forward\n",
    "        # rnn_output[:,0,-128:] <-- the last output of backward\n",
    "\n",
    "        x_last = torch.cat((rnn_output[:,-1,:n_hidden],rnn_output[:,0,-n_hidden:]),dim = 1)\n",
    "        \n",
    "        output = self.linear(x_last)\n",
    "\n",
    "        return output"
   ]
  },
  {
   "cell_type": "code",
   "execution_count": 145,
   "metadata": {
    "id": "F1F8Ej4ybIpZ"
   },
   "outputs": [],
   "source": [
    "import numpy as np\n",
    "import torch.optim as optim\n",
    "\n",
    "# the length of each sequence = \n",
    "seq_length = int(train_input.shape[1])\n",
    "# the input feature dimension = \n",
    "n_input = int(train_input.shape[2])\n",
    "# the number of class = \n",
    "n_class = 2\n",
    "\n",
    "# the hyperparameters\n",
    "n_hidden = 128\n",
    "batch_size =  50\n",
    "total_epoch = 50\n",
    "learning_rate = 0.003"
   ]
  },
  {
   "cell_type": "markdown",
   "metadata": {
    "id": "6BaOiaGRLW7R"
   },
   "source": [
    "### 2.3.3. Train Sequence Model\n",
    "\n",
    "Note that it will not be marked if you do not display the Training Loss and the Number of Epochs in the Assignment 1 ipynb.\n"
   ]
  },
  {
   "cell_type": "code",
   "execution_count": null,
   "metadata": {
    "id": "lVQnUSX1LZ6C"
   },
   "outputs": [],
   "source": [
    "# Please comment your code"
   ]
  },
  {
   "cell_type": "code",
   "execution_count": 169,
   "metadata": {
    "id": "9-gP1FeziuOB"
   },
   "outputs": [],
   "source": [
    "from sklearn.model_selection import train_test_split\n",
    "X_train, X_val, y_train, y_val = train_test_split(\n",
    "                    train_input, train_y, test_size=0.33, random_state=1442)\n"
   ]
  },
  {
   "cell_type": "code",
   "execution_count": 172,
   "metadata": {
    "colab": {
     "base_uri": "https://localhost:8080/"
    },
    "id": "RpV2sE6ib3mD",
    "outputId": "fb150b2f-37e0-41a9-d9e8-adced6ada8b2"
   },
   "outputs": [
    {
     "name": "stdout",
     "output_type": "stream",
     "text": [
      "Epoch: 1, train loss: 63.69012, train_acc: 0.90\n",
      "Epoch: 2, train loss: 36.55801, train_acc: 0.80\n",
      "Epoch: 3, train loss: 34.26443, train_acc: 0.60\n",
      "Epoch: 4, train loss: 36.21677, train_acc: 0.90\n",
      "Epoch: 5, train loss: 31.35741, train_acc: 0.90\n",
      "Epoch: 6, train loss: 32.10292, train_acc: 0.90\n",
      "Epoch: 7, train loss: 31.33810, train_acc: 0.90\n",
      "Epoch: 8, train loss: 26.84082, train_acc: 0.90\n",
      "Epoch: 9, train loss: 27.82705, train_acc: 1.00\n",
      "Epoch: 10, train loss: 28.36945, train_acc: 1.00\n",
      "Epoch: 11, train loss: 27.48341, train_acc: 1.00\n",
      "Epoch: 12, train loss: 26.72350, train_acc: 1.00\n",
      "Epoch: 13, train loss: 23.10744, train_acc: 1.00\n",
      "Epoch: 14, train loss: 20.79539, train_acc: 1.00\n",
      "Epoch: 15, train loss: 17.99434, train_acc: 1.00\n",
      "Epoch: 16, train loss: 16.60524, train_acc: 1.00\n",
      "Epoch: 17, train loss: 15.59289, train_acc: 0.90\n",
      "Epoch: 18, train loss: 18.00295, train_acc: 1.00\n",
      "Epoch: 19, train loss: 15.44090, train_acc: 1.00\n",
      "Epoch: 20, train loss: 14.85461, train_acc: 1.00\n",
      "Epoch: 21, train loss: 14.74645, train_acc: 1.00\n",
      "Epoch: 22, train loss: 11.78453, train_acc: 1.00\n",
      "Epoch: 23, train loss: 8.87320, train_acc: 1.00\n",
      "Epoch: 24, train loss: 9.83491, train_acc: 0.90\n",
      "Epoch: 25, train loss: 8.36253, train_acc: 1.00\n",
      "Epoch: 26, train loss: 8.82375, train_acc: 0.90\n",
      "Epoch: 27, train loss: 15.63670, train_acc: 1.00\n",
      "Epoch: 28, train loss: 9.81500, train_acc: 1.00\n",
      "Epoch: 29, train loss: 8.59180, train_acc: 1.00\n",
      "Epoch: 30, train loss: 5.88193, train_acc: 1.00\n",
      "Epoch: 31, train loss: 3.66744, train_acc: 1.00\n",
      "Epoch: 32, train loss: 2.47294, train_acc: 1.00\n",
      "Epoch: 33, train loss: 3.11172, train_acc: 1.00\n",
      "Epoch: 34, train loss: 2.64584, train_acc: 1.00\n",
      "Epoch: 35, train loss: 2.88454, train_acc: 1.00\n",
      "Epoch: 36, train loss: 2.50909, train_acc: 1.00\n",
      "Epoch: 37, train loss: 3.10722, train_acc: 1.00\n",
      "Epoch: 38, train loss: 3.34481, train_acc: 1.00\n",
      "Epoch: 39, train loss: 4.43514, train_acc: 1.00\n",
      "Epoch: 40, train loss: 2.88573, train_acc: 1.00\n",
      "Epoch: 41, train loss: 2.51225, train_acc: 1.00\n",
      "Epoch: 42, train loss: 1.85254, train_acc: 1.00\n",
      "Epoch: 43, train loss: 1.96756, train_acc: 1.00\n",
      "Epoch: 44, train loss: 2.99146, train_acc: 1.00\n",
      "Epoch: 45, train loss: 2.43019, train_acc: 1.00\n",
      "Epoch: 46, train loss: 4.21630, train_acc: 1.00\n",
      "Epoch: 47, train loss: 4.83012, train_acc: 1.00\n",
      "Epoch: 48, train loss: 6.33849, train_acc: 1.00\n",
      "Epoch: 49, train loss: 3.92741, train_acc: 1.00\n",
      "Epoch: 50, train loss: 2.95694, train_acc: 1.00\n",
      "Finished Training\n"
     ]
    }
   ],
   "source": [
    "from sklearn.metrics import accuracy_score\n",
    "\n",
    "model = Bi_RNN_Model().to(device)\n",
    "criterion = nn.CrossEntropyLoss()\n",
    "\n",
    "# Please find which optimizer provides a higher f1\n",
    "optimizer = optim.Adam(model.parameters(), lr=learning_rate)\n",
    "\n",
    "for epoch in range(total_epoch):\n",
    "    train_loss = 0\n",
    "    for ind in range(0,X_train.shape[0],batch_size):\n",
    "        input_batch = X_train[ind:min(ind+batch_size, X_train.shape[0])]\n",
    "        target_batch = y_train[ind:min(ind+batch_size, X_train.shape[0])]\n",
    "        input_batch_torch = torch.from_numpy(input_batch).float().to(device)\n",
    "        target_batch_torch = torch.from_numpy(target_batch).view(-1).to(device)\n",
    "\n",
    "        model.train()\n",
    "        optimizer.zero_grad()\n",
    "        outputs = model(input_batch_torch) \n",
    "        loss = criterion(outputs, target_batch_torch)\n",
    "        loss.backward()\n",
    "        optimizer.step()\n",
    "        \n",
    "        _, predicted = torch.max(outputs, 1)\n",
    "        acc= accuracy_score(predicted.cpu().numpy(),target_batch_torch.cpu().numpy())\n",
    "        \n",
    "        train_loss += loss.item()\n",
    "\n",
    "    print('Epoch: %d, train loss: %.5f, train_acc: %.2f'%(epoch + 1, train_loss, acc))\n",
    "\n",
    "print('Finished Training')\n"
   ]
  },
  {
   "cell_type": "code",
   "execution_count": null,
   "metadata": {
    "id": "0G_IHOjt4Hb5"
   },
   "outputs": [],
   "source": []
  },
  {
   "cell_type": "code",
   "execution_count": 173,
   "metadata": {
    "colab": {
     "base_uri": "https://localhost:8080/"
    },
    "id": "tjG1RzDJf-vE",
    "outputId": "6d36470d-d7eb-477c-900e-04853b8e8cdb"
   },
   "outputs": [
    {
     "name": "stdout",
     "output_type": "stream",
     "text": [
      "              precision    recall  f1-score   support\n",
      "\n",
      "           1     0.8164    0.8046    0.8104      1315\n",
      "           2     0.8088    0.8204    0.8145      1325\n",
      "\n",
      "    accuracy                         0.8125      2640\n",
      "   macro avg     0.8126    0.8125    0.8125      2640\n",
      "weighted avg     0.8126    0.8125    0.8125      2640\n",
      "\n"
     ]
    }
   ],
   "source": [
    "## Prediction\n",
    "model.eval()\n",
    "outputs = model(torch.from_numpy(X_val).float().to(device)) \n",
    "predicted = torch.argmax(outputs, 1)\n",
    "\n",
    "# classification_report builds a text report showing the main classification metrics\n",
    "from sklearn.metrics import classification_report\n",
    "print(classification_report(y_val, predicted.cpu().numpy(),digits=4))"
   ]
  },
  {
   "cell_type": "markdown",
   "metadata": {
    "id": "a4mpRpocePLN"
   },
   "source": [
    "# 3 - Evaluation\n"
   ]
  },
  {
   "cell_type": "markdown",
   "metadata": {
    "id": "lbLBzHObsvvM"
   },
   "source": [
    "## 3.1. Word Embedding Evaluation\n",
    "You are to apply Semantic-Syntactic word relationship tests for the trained word embeddings and visualise the result of Semantic-Syntactic word relationship tests.\n",
    "Note that it will not be marked if you do not display it in the ipynb file.\n"
   ]
  },
  {
   "cell_type": "markdown",
   "metadata": {
    "id": "MSIUsb7qtQEf"
   },
   "source": [
    "(*Please show your empirical evidence*)"
   ]
  },
  {
   "cell_type": "code",
   "execution_count": 32,
   "metadata": {
    "id": "gPYUJaHMUwl_"
   },
   "outputs": [],
   "source": [
    "# Please comment your code\n",
    "# hyperparameters prepare\n",
    "def getfile(dim, window):\n",
    "  Dimension_embeddings = dim\n",
    "  word2vec_params = {\n",
    "    'sg': 0,       # CBOW\n",
    "    \"size\": Dimension_embeddings,\n",
    "    \"alpha\": 0.05,\n",
    "    \"min_alpha\": 0.0001,\n",
    "    'window': window,\n",
    "    'min_count': 2,\n",
    "    'seed': 1,\n",
    "    \"workers\": 4,\n",
    "    \"negative\": 0,\n",
    "    \"hs\": 1,       # hierarchical softmax\n",
    "    'compute_loss': True,\n",
    "    'iter': 10,\n",
    "    'cbow_mean':1,\n",
    "  }\n",
    "  model = Word2Vec(**word2vec_params)\n",
    "  model.build_vocab(ted_sentences+train_x+test_x)\n",
    "\n",
    "  losses = []\n",
    "  learning_rate = 0.5\n",
    "  step_size = (0.5 - 0.001) / 10\n",
    "\n",
    "  for i in range(10):\n",
    "      trained_word_count, raw_word_count = model.train(ted_sentences+train_x+test_x, compute_loss=True,\n",
    "                                                      start_alpha=learning_rate,\n",
    "                                                      end_alpha=learning_rate,\n",
    "                                                      total_examples=model.corpus_count,\n",
    "                                                      epochs=5)\n",
    "      loss = model.get_latest_training_loss()\n",
    "      losses.append(loss)\n",
    "      print(i, loss, learning_rate)\n",
    "      \n",
    "      learning_rate -= step_size\n",
    "\n",
    "  return model"
   ]
  },
  {
   "cell_type": "code",
   "execution_count": 47,
   "metadata": {
    "id": "l1Ncn_0pEshw"
   },
   "outputs": [],
   "source": [
    "loaded_w2vmodel.wv.save_word2vec_format('cbow_w2v.txt', binary=False)\n",
    "ofile = \"/content/cbow_w2v.txt\""
   ]
  },
  {
   "cell_type": "code",
   "execution_count": 33,
   "metadata": {
    "colab": {
     "base_uri": "https://localhost:8080/"
    },
    "id": "kp0Or3uhUwfV",
    "outputId": "53ddec13-db17-44b3-dfdf-89d03f5794e0"
   },
   "outputs": [
    {
     "name": "stdout",
     "output_type": "stream",
     "text": [
      "0 139253.875 0.5\n",
      "1 79205.609375 0.4501\n",
      "2 73981.984375 0.4002\n",
      "3 76228.421875 0.3503\n",
      "4 79613.0078125 0.3004\n",
      "5 75639.3984375 0.2505\n",
      "6 72999.71875 0.2006\n",
      "7 72512.5234375 0.1507\n",
      "8 72980.5625 0.1008\n",
      "9 77856.9375 0.0509\n"
     ]
    }
   ],
   "source": [
    "getfile(200, 5).wv.save_word2vec_format('cbow_w2v2.txt', binary=False)\n",
    "file2 = \"/content/cbow_w2v2.txt\""
   ]
  },
  {
   "cell_type": "code",
   "execution_count": 34,
   "metadata": {
    "colab": {
     "base_uri": "https://localhost:8080/"
    },
    "id": "JPz-Hh-hUwXO",
    "outputId": "13dfb5cb-34f9-43a5-bcd0-137f0eb39c8f"
   },
   "outputs": [
    {
     "name": "stdout",
     "output_type": "stream",
     "text": [
      "0 187072.546875 0.5\n",
      "1 77459.2734375 0.4501\n",
      "2 77861.015625 0.4002\n",
      "3 74688.4296875 0.3503\n",
      "4 75916.9140625 0.3004\n",
      "5 72696.109375 0.2505\n",
      "6 72054.609375 0.2006\n",
      "7 72795.1875 0.1507\n",
      "8 68752.4453125 0.1008\n",
      "9 71864.234375 0.0509\n"
     ]
    }
   ],
   "source": [
    "getfile(300, 5).wv.save_word2vec_format('cbow_w2v3.txt', binary=False)\n",
    "file3 = \"/content/cbow_w2v3.txt\""
   ]
  },
  {
   "cell_type": "code",
   "execution_count": 45,
   "metadata": {
    "colab": {
     "base_uri": "https://localhost:8080/"
    },
    "id": "52_a2eVTDLn2",
    "outputId": "60c062c9-87c9-4a2d-f12f-cf2174b7ba44"
   },
   "outputs": [
    {
     "name": "stdout",
     "output_type": "stream",
     "text": [
      "0 156137.484375 0.5\n",
      "1 78996.8203125 0.4501\n",
      "2 76894.3203125 0.4002\n",
      "3 74469.734375 0.3503\n",
      "4 74225.9140625 0.3004\n",
      "5 73558.09375 0.2505\n",
      "6 74865.1015625 0.2006\n",
      "7 72223.21875 0.1507\n",
      "8 74269.0390625 0.1008\n",
      "9 71925.9296875 0.0509\n"
     ]
    }
   ],
   "source": [
    "getfile(50, 5).wv.save_word2vec_format('cbow_w2v4.txt', binary=False)\n",
    "file4 = \"/content/cbow_w2v4.txt\""
   ]
  },
  {
   "cell_type": "code",
   "execution_count": 55,
   "metadata": {
    "colab": {
     "base_uri": "https://localhost:8080/"
    },
    "id": "9e2E0U55HXFY",
    "outputId": "13c7df83-8bec-4cfc-c721-67528a29a185"
   },
   "outputs": [
    {
     "name": "stdout",
     "output_type": "stream",
     "text": [
      "0 130379.4765625 0.5\n",
      "1 81311.0703125 0.4501\n",
      "2 73978.3828125 0.4002\n",
      "3 75391.6015625 0.3503\n",
      "4 74657.1796875 0.3004\n",
      "5 73257.7734375 0.2505\n",
      "6 75173.9453125 0.2006\n",
      "7 72767.3359375 0.1507\n",
      "8 71219.1484375 0.1008\n",
      "9 72271.1796875 0.0509\n"
     ]
    }
   ],
   "source": [
    "getfile(100, 10).wv.save_word2vec_format('cbow_w2v5.txt', binary=False)\n",
    "file5 = \"/content/cbow_w2v5.txt\""
   ]
  },
  {
   "cell_type": "code",
   "execution_count": 35,
   "metadata": {
    "colab": {
     "base_uri": "https://localhost:8080/"
    },
    "id": "eXgHyZuIW0iE",
    "outputId": "3e3603e2-ec8a-4669-da2b-992036862753"
   },
   "outputs": [
    {
     "name": "stdout",
     "output_type": "stream",
     "text": [
      "Cloning into 'GloVe'...\n",
      "remote: Enumerating objects: 595, done.\u001b[K\n",
      "remote: Counting objects: 100% (3/3), done.\u001b[K\n",
      "remote: Compressing objects: 100% (3/3), done.\u001b[K\n",
      "remote: Total 595 (delta 0), reused 1 (delta 0), pack-reused 592\u001b[K\n",
      "Receiving objects: 100% (595/595), 222.33 KiB | 940.00 KiB/s, done.\n",
      "Resolving deltas: 100% (338/338), done.\n"
     ]
    }
   ],
   "source": [
    "!git clone https://github.com/stanfordnlp/GloVe.git"
   ]
  },
  {
   "cell_type": "code",
   "execution_count": null,
   "metadata": {
    "id": "0IVj4wMXja0n"
   },
   "outputs": [],
   "source": []
  },
  {
   "cell_type": "code",
   "execution_count": 40,
   "metadata": {
    "id": "VAg6l9S5W-8e"
   },
   "outputs": [],
   "source": [
    "def evaluate_vectors(W, vocab, prefix='./eval/question-data/'):\n",
    "    \"\"\"Evaluate the trained word vectors on a variety of tasks\"\"\"\n",
    "\n",
    "    filenames = [\n",
    "        'capital-common-countries.txt', 'capital-world.txt', 'currency.txt',\n",
    "        'city-in-state.txt', 'family.txt', 'gram1-adjective-to-adverb.txt',\n",
    "        'gram2-opposite.txt', 'gram3-comparative.txt', 'gram4-superlative.txt',\n",
    "        'gram5-present-participle.txt', 'gram6-nationality-adjective.txt',\n",
    "        'gram7-past-tense.txt', 'gram8-plural.txt', 'gram9-plural-verbs.txt',\n",
    "        ]\n",
    "\n",
    "    # to avoid memory overflow, could be increased/decreased\n",
    "    # depending on system and vocab size\n",
    "    split_size = 100\n",
    "\n",
    "    correct_sem = 0; # count correct semantic questions\n",
    "    correct_syn = 0; # count correct syntactic questions\n",
    "    correct_tot = 0 # count correct questions\n",
    "    count_sem = 0; # count all semantic questions\n",
    "    count_syn = 0; # count all syntactic questions\n",
    "    count_tot = 0 # count all questions\n",
    "    full_count = 0 # count all questions, including those with unknown words\n",
    "\n",
    "    for i in range(len(filenames)):\n",
    "        with open('%s/%s' % (prefix, filenames[i]), 'r') as f:\n",
    "            full_data = [line.rstrip().split(' ') for line in f]\n",
    "            full_count += len(full_data)\n",
    "            data = [x for x in full_data if all(word in vocab for word in x)]\n",
    "\n",
    "        if len(data) == 0:\n",
    "            print(\"ERROR: no lines of vocab kept for %s !\" % filenames[i])\n",
    "            print(\"Example missing line:\", full_data[0])\n",
    "            continue\n",
    "\n",
    "        indices = np.array([[vocab[word] for word in row] for row in data])\n",
    "        ind1, ind2, ind3, ind4 = indices.T\n",
    "\n",
    "        predictions = np.zeros((len(indices),))\n",
    "        num_iter = int(np.ceil(len(indices) / float(split_size)))\n",
    "        for j in range(num_iter):\n",
    "            subset = np.arange(j*split_size, min((j + 1)*split_size, len(ind1)))\n",
    "\n",
    "            pred_vec = (W[ind2[subset], :] - W[ind1[subset], :]\n",
    "                +  W[ind3[subset], :])\n",
    "\n",
    "            #cosine similarity if input W has been normalized\n",
    "            dist = np.dot(W, pred_vec.T)\n",
    "\n",
    "\n",
    "            for k in range(len(subset)):\n",
    "                dist[ind1[subset[k]], k] = -np.Inf\n",
    "                dist[ind2[subset[k]], k] = -np.Inf\n",
    "                dist[ind3[subset[k]], k] = -np.Inf\n",
    "\n",
    "            # predicted word index\n",
    "            predictions[subset] = np.argmax(dist, 0).flatten()\n",
    "\n",
    "        \n",
    "        val = (ind4 == predictions) # correct predictions\n",
    "        count_tot = count_tot + len(ind1)\n",
    "        correct_tot = correct_tot + sum(val)\n",
    "        if i < 5:\n",
    "            count_sem = count_sem + len(ind1)\n",
    "            correct_sem = correct_sem + sum(val)\n",
    "        else:\n",
    "            count_syn = count_syn + len(ind1)\n",
    "            correct_syn = correct_syn + sum(val)\n",
    "\n",
    "        print(\"%s:\" % filenames[i])\n",
    "        print('ACCURACY TOP1: %.2f%% (%d/%d)' %\n",
    "            (np.mean(val) * 100, np.sum(val), len(val)))\n",
    "        \n",
    "    return correct_sem, correct_syn, correct_tot, count_sem, count_syn, count_tot, full_count"
   ]
  },
  {
   "cell_type": "code",
   "execution_count": 52,
   "metadata": {
    "id": "ohrGZyVhjas5"
   },
   "outputs": [],
   "source": [
    "def process(file):\n",
    "  with open(file, 'r') as f:\n",
    "    vectors = {}\n",
    "    for line in f.readlines()[1:]: # we only need the embedding vectors starting from the second line\n",
    "        \n",
    "      vals = line.rstrip().split(' ')\n",
    "      try:\n",
    "        vectors[vals[0]] = [float(x) for x in vals[1:]]\n",
    "      except ValueError:\n",
    "        break\n",
    "\n",
    "  vocab_words=list(vectors.keys())\n",
    "  vocab_size = len(vocab_words)\n",
    "  print(\"Vocab size: \",str(vocab_size))\n",
    "\n",
    "  # create word->index and index->word converter\n",
    "  vocab = {w: idx for idx, w in enumerate(vocab_words)}\n",
    "  ivocab = {idx: w for idx, w in enumerate(vocab_words)}\n",
    "\n",
    "  # create the embedding matrix of shape (vocab_size, dim)\n",
    "  vector_dim = len(vectors[ivocab[0]])\n",
    "  W = np.zeros((vocab_size, vector_dim))\n",
    "  for word, v in vectors.items():\n",
    "      if word == '<unk>':\n",
    "          continue\n",
    "      W[vocab[word], :] = v\n",
    "\n",
    "  # normalize each word vector to unit length\n",
    "  # Vectors are usually normalized to unit length before they are used for similarity calculation, making cosine similarity and dot-product equivalent.\n",
    "  W_norm = np.zeros(W.shape)\n",
    "  d = (np.sum(W ** 2, 1) ** (0.5))\n",
    "  W_norm = (W.T / d).T\n",
    "\n",
    "  correct_sem, correct_syn, correct_tot, count_sem, count_syn, count_tot, full_count = evaluate_vectors(W_norm, \n",
    "                                                                                                        vocab, prefix='/content/GloVe/eval/question-data')\n",
    "  print('Questions seen/total: %.2f%% (%d/%d)' %\n",
    "      (100 * count_tot / float(full_count), count_tot, full_count))\n",
    "  print('Semantic accuracy: %.2f%%  (%i/%i)' %\n",
    "      (100 * correct_sem / float(count_sem), correct_sem, count_sem))\n",
    "  print('Syntactic accuracy: %.2f%%  (%i/%i)' %\n",
    "      (100 * correct_syn / float(count_syn), correct_syn, count_syn))\n",
    "  print('Total accuracy: %.2f%%  (%i/%i)' % (100 * correct_tot / float(count_tot), correct_tot, count_tot))\n",
    "\n",
    "  return \n",
    "\n",
    "\n",
    "\n",
    "  "
   ]
  },
  {
   "cell_type": "code",
   "execution_count": 53,
   "metadata": {
    "colab": {
     "base_uri": "https://localhost:8080/"
    },
    "id": "IrT6gsJxFAfr",
    "outputId": "2c99ebb4-af16-48a1-fba6-5e7eefb0f958"
   },
   "outputs": [
    {
     "name": "stdout",
     "output_type": "stream",
     "text": [
      "Vocab size:  22433\n",
      "capital-common-countries.txt:\n",
      "ACCURACY TOP1: 0.00% (0/272)\n",
      "capital-world.txt:\n",
      "ACCURACY TOP1: 0.00% (0/562)\n",
      "currency.txt:\n",
      "ACCURACY TOP1: 0.00% (0/28)\n",
      "city-in-state.txt:\n",
      "ACCURACY TOP1: 0.00% (0/545)\n",
      "family.txt:\n",
      "ACCURACY TOP1: 0.00% (0/342)\n",
      "gram1-adjective-to-adverb.txt:\n",
      "ACCURACY TOP1: 0.00% (0/812)\n",
      "gram2-opposite.txt:\n",
      "ACCURACY TOP1: 0.00% (0/506)\n",
      "gram3-comparative.txt:\n",
      "ACCURACY TOP1: 0.08% (1/1332)\n",
      "gram4-superlative.txt:\n",
      "ACCURACY TOP1: 0.00% (0/756)\n",
      "gram5-present-participle.txt:\n",
      "ACCURACY TOP1: 0.00% (0/992)\n",
      "gram6-nationality-adjective.txt:\n",
      "ACCURACY TOP1: 0.00% (0/849)\n",
      "gram7-past-tense.txt:\n",
      "ACCURACY TOP1: 0.00% (0/1482)\n",
      "gram8-plural.txt:\n",
      "ACCURACY TOP1: 0.10% (1/992)\n",
      "gram9-plural-verbs.txt:\n",
      "ACCURACY TOP1: 0.00% (0/756)\n",
      "Questions seen/total: 52.32% (10226/19544)\n",
      "Semantic accuracy: 0.00%  (0/1749)\n",
      "Syntactic accuracy: 0.02%  (2/8477)\n",
      "Total accuracy: 0.02%  (2/10226)\n"
     ]
    }
   ],
   "source": [
    "process(ofile)  # (100,5)"
   ]
  },
  {
   "cell_type": "code",
   "execution_count": 42,
   "metadata": {
    "colab": {
     "base_uri": "https://localhost:8080/"
    },
    "id": "ZyqX2qMFlPjh",
    "outputId": "fe6549ec-ed6d-4930-f7ad-3828e176ad68"
   },
   "outputs": [
    {
     "name": "stdout",
     "output_type": "stream",
     "text": [
      "Vocab size:  22433\n",
      "capital-common-countries.txt:\n",
      "ACCURACY TOP1: 0.00% (0/272)\n",
      "capital-world.txt:\n",
      "ACCURACY TOP1: 0.00% (0/562)\n",
      "currency.txt:\n",
      "ACCURACY TOP1: 0.00% (0/28)\n",
      "city-in-state.txt:\n",
      "ACCURACY TOP1: 0.18% (1/545)\n",
      "family.txt:\n",
      "ACCURACY TOP1: 0.00% (0/342)\n",
      "gram1-adjective-to-adverb.txt:\n",
      "ACCURACY TOP1: 0.00% (0/812)\n",
      "gram2-opposite.txt:\n",
      "ACCURACY TOP1: 0.00% (0/506)\n",
      "gram3-comparative.txt:\n",
      "ACCURACY TOP1: 0.00% (0/1332)\n",
      "gram4-superlative.txt:\n",
      "ACCURACY TOP1: 0.00% (0/756)\n",
      "gram5-present-participle.txt:\n",
      "ACCURACY TOP1: 0.00% (0/992)\n",
      "gram6-nationality-adjective.txt:\n",
      "ACCURACY TOP1: 0.00% (0/849)\n",
      "gram7-past-tense.txt:\n",
      "ACCURACY TOP1: 0.00% (0/1482)\n",
      "gram8-plural.txt:\n",
      "ACCURACY TOP1: 0.00% (0/992)\n",
      "gram9-plural-verbs.txt:\n",
      "ACCURACY TOP1: 0.00% (0/756)\n",
      "Questions seen/total: 52.32% (10226/19544)\n",
      "Semantic accuracy: 0.06%  (1/1749)\n",
      "Syntactic accuracy: 0.00%  (0/8477)\n",
      "Total accuracy: 0.01%  (1/10226)\n"
     ]
    }
   ],
   "source": [
    "process(file2)  # (200, 5)"
   ]
  },
  {
   "cell_type": "code",
   "execution_count": 43,
   "metadata": {
    "colab": {
     "base_uri": "https://localhost:8080/"
    },
    "id": "BIxVm2KqAolc",
    "outputId": "116082cb-ee1b-46d7-86bb-2a0f64b3b108"
   },
   "outputs": [
    {
     "name": "stdout",
     "output_type": "stream",
     "text": [
      "Vocab size:  22433\n",
      "capital-common-countries.txt:\n",
      "ACCURACY TOP1: 0.00% (0/272)\n",
      "capital-world.txt:\n",
      "ACCURACY TOP1: 0.00% (0/562)\n",
      "currency.txt:\n",
      "ACCURACY TOP1: 0.00% (0/28)\n",
      "city-in-state.txt:\n",
      "ACCURACY TOP1: 0.18% (1/545)\n",
      "family.txt:\n",
      "ACCURACY TOP1: 0.00% (0/342)\n",
      "gram1-adjective-to-adverb.txt:\n",
      "ACCURACY TOP1: 0.12% (1/812)\n",
      "gram2-opposite.txt:\n",
      "ACCURACY TOP1: 0.00% (0/506)\n",
      "gram3-comparative.txt:\n",
      "ACCURACY TOP1: 0.08% (1/1332)\n",
      "gram4-superlative.txt:\n",
      "ACCURACY TOP1: 0.00% (0/756)\n",
      "gram5-present-participle.txt:\n",
      "ACCURACY TOP1: 0.00% (0/992)\n",
      "gram6-nationality-adjective.txt:\n",
      "ACCURACY TOP1: 0.00% (0/849)\n",
      "gram7-past-tense.txt:\n",
      "ACCURACY TOP1: 0.00% (0/1482)\n",
      "gram8-plural.txt:\n",
      "ACCURACY TOP1: 0.00% (0/992)\n",
      "gram9-plural-verbs.txt:\n",
      "ACCURACY TOP1: 0.00% (0/756)\n",
      "Questions seen/total: 52.32% (10226/19544)\n",
      "Semantic accuracy: 0.06%  (1/1749)\n",
      "Syntactic accuracy: 0.02%  (2/8477)\n",
      "Total accuracy: 0.03%  (3/10226)\n"
     ]
    }
   ],
   "source": [
    "process(file3) # (300,5)"
   ]
  },
  {
   "cell_type": "code",
   "execution_count": 46,
   "metadata": {
    "colab": {
     "base_uri": "https://localhost:8080/"
    },
    "id": "Zek1J5VtDSXa",
    "outputId": "f3fc2221-ba48-4f4d-c1a9-9d498b24c73b"
   },
   "outputs": [
    {
     "name": "stdout",
     "output_type": "stream",
     "text": [
      "Vocab size:  22433\n",
      "capital-common-countries.txt:\n",
      "ACCURACY TOP1: 0.00% (0/272)\n",
      "capital-world.txt:\n",
      "ACCURACY TOP1: 0.00% (0/562)\n",
      "currency.txt:\n",
      "ACCURACY TOP1: 0.00% (0/28)\n",
      "city-in-state.txt:\n",
      "ACCURACY TOP1: 0.00% (0/545)\n",
      "family.txt:\n",
      "ACCURACY TOP1: 0.00% (0/342)\n",
      "gram1-adjective-to-adverb.txt:\n",
      "ACCURACY TOP1: 0.00% (0/812)\n",
      "gram2-opposite.txt:\n",
      "ACCURACY TOP1: 0.00% (0/506)\n",
      "gram3-comparative.txt:\n",
      "ACCURACY TOP1: 0.00% (0/1332)\n",
      "gram4-superlative.txt:\n",
      "ACCURACY TOP1: 0.00% (0/756)\n",
      "gram5-present-participle.txt:\n",
      "ACCURACY TOP1: 0.00% (0/992)\n",
      "gram6-nationality-adjective.txt:\n",
      "ACCURACY TOP1: 0.00% (0/849)\n",
      "gram7-past-tense.txt:\n",
      "ACCURACY TOP1: 0.00% (0/1482)\n",
      "gram8-plural.txt:\n",
      "ACCURACY TOP1: 0.00% (0/992)\n",
      "gram9-plural-verbs.txt:\n",
      "ACCURACY TOP1: 0.00% (0/756)\n",
      "Questions seen/total: 52.32% (10226/19544)\n",
      "Semantic accuracy: 0.00%  (0/1749)\n",
      "Syntactic accuracy: 0.00%  (0/8477)\n",
      "Total accuracy: 0.00%  (0/10226)\n"
     ]
    }
   ],
   "source": [
    "process(file4) # (50,5)"
   ]
  },
  {
   "cell_type": "code",
   "execution_count": 56,
   "metadata": {
    "colab": {
     "base_uri": "https://localhost:8080/"
    },
    "id": "qixhKXYmHiQJ",
    "outputId": "52fa0939-4a92-4b12-bd36-9ef5a760e552"
   },
   "outputs": [
    {
     "name": "stdout",
     "output_type": "stream",
     "text": [
      "Vocab size:  22433\n",
      "capital-common-countries.txt:\n",
      "ACCURACY TOP1: 0.00% (0/272)\n",
      "capital-world.txt:\n",
      "ACCURACY TOP1: 0.00% (0/562)\n",
      "currency.txt:\n",
      "ACCURACY TOP1: 0.00% (0/28)\n",
      "city-in-state.txt:\n",
      "ACCURACY TOP1: 0.00% (0/545)\n",
      "family.txt:\n",
      "ACCURACY TOP1: 0.00% (0/342)\n",
      "gram1-adjective-to-adverb.txt:\n",
      "ACCURACY TOP1: 0.00% (0/812)\n",
      "gram2-opposite.txt:\n",
      "ACCURACY TOP1: 0.00% (0/506)\n",
      "gram3-comparative.txt:\n",
      "ACCURACY TOP1: 0.08% (1/1332)\n",
      "gram4-superlative.txt:\n",
      "ACCURACY TOP1: 0.00% (0/756)\n",
      "gram5-present-participle.txt:\n",
      "ACCURACY TOP1: 0.00% (0/992)\n",
      "gram6-nationality-adjective.txt:\n",
      "ACCURACY TOP1: 0.00% (0/849)\n",
      "gram7-past-tense.txt:\n",
      "ACCURACY TOP1: 0.00% (0/1482)\n",
      "gram8-plural.txt:\n",
      "ACCURACY TOP1: 0.00% (0/992)\n",
      "gram9-plural-verbs.txt:\n",
      "ACCURACY TOP1: 0.00% (0/756)\n",
      "Questions seen/total: 52.32% (10226/19544)\n",
      "Semantic accuracy: 0.00%  (0/1749)\n",
      "Syntactic accuracy: 0.01%  (1/8477)\n",
      "Total accuracy: 0.01%  (1/10226)\n"
     ]
    }
   ],
   "source": [
    "process(file5) # (100, 10)"
   ]
  },
  {
   "cell_type": "markdown",
   "metadata": {
    "id": "KEW1zMgVMREr"
   },
   "source": [
    "## 3.2. Performance Evaluation\n",
    "\n",
    "\n",
    "You are required to provide the table with precision, recall, f1 of test set.\n",
    "Note that it will not be marked if you do not display it in the ipynb file.\n"
   ]
  },
  {
   "cell_type": "markdown",
   "metadata": {
    "id": "oVCF0bwTtRS0"
   },
   "source": [
    "(*Please show your empirical evidence*)"
   ]
  },
  {
   "cell_type": "code",
   "execution_count": null,
   "metadata": {
    "id": "LPHCb-bneTI9"
   },
   "outputs": [],
   "source": [
    "# Please comment your code"
   ]
  },
  {
   "cell_type": "markdown",
   "metadata": {
    "id": "P28Z1k36MZuo"
   },
   "source": [
    "## 3.3. Hyperparameter Testing\n",
    "*You are required to draw a graph(y-axis: f1, x-axis: epoch) for test set and explain the optimal number of epochs based on the learning rate you have already chosen.* Note that it will not be marked if you do not display it in the ipynb file.\n"
   ]
  },
  {
   "cell_type": "markdown",
   "metadata": {
    "id": "BYzrA_s2tTaz"
   },
   "source": [
    "(*Please show your empirical evidence*)"
   ]
  },
  {
   "cell_type": "code",
   "execution_count": null,
   "metadata": {
    "id": "wTLyQEeZMZ2f"
   },
   "outputs": [],
   "source": [
    "# Please comment your code"
   ]
  },
  {
   "cell_type": "markdown",
   "metadata": {
    "id": "sfv8rWTKPzeb"
   },
   "source": [
    "## Object Oriented Programming codes here"
   ]
  },
  {
   "cell_type": "markdown",
   "metadata": {
    "id": "TS23AjBRSZaX"
   },
   "source": [
    "*You can use multiple code snippets. Just add more if needed* "
   ]
  },
  {
   "cell_type": "code",
   "execution_count": null,
   "metadata": {
    "id": "1hVmx4E52dXS"
   },
   "outputs": [],
   "source": [
    "# If you used OOP style, use this section"
   ]
  }
 ],
 "metadata": {
  "colab": {
   "collapsed_sections": [
    "sfv8rWTKPzeb"
   ],
   "name": "Copy of UNIKEY_COMP5046_Ass1.ipynb",
   "provenance": []
  },
  "kernelspec": {
   "display_name": "Python 3",
   "language": "python",
   "name": "python3"
  },
  "language_info": {
   "codemirror_mode": {
    "name": "ipython",
    "version": 3
   },
   "file_extension": ".py",
   "mimetype": "text/x-python",
   "name": "python",
   "nbconvert_exporter": "python",
   "pygments_lexer": "ipython3",
   "version": "3.8.5"
  }
 },
 "nbformat": 4,
 "nbformat_minor": 1
}
